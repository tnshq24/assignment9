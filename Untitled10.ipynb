{
 "cells": [
  {
   "cell_type": "code",
   "execution_count": 1,
   "id": "93ce37ef-22b2-45c7-9c68-eedef6530fef",
   "metadata": {},
   "outputs": [],
   "source": [
    "#Q1\n",
    "# In multiprocessing a piece of code or task is divides into several small pieces,\n",
    "# to get executed by the multiple processors to produce an output. It is used to improve the\n",
    "# performance of the code.\n"
   ]
  },
  {
   "cell_type": "code",
   "execution_count": 2,
   "id": "3bbf8c85-9b80-4725-8f7b-5a087ed0afca",
   "metadata": {},
   "outputs": [],
   "source": [
    "#Q2\n",
    "# In multithreading different tasks are being performed with the help of threads, each thread\n",
    "# assigned to each of them. They get executed one after the another whereas in multiprocessing\n",
    "# we can process multiple prcosses in multiple processors with the help of multiple CPU cores."
   ]
  },
  {
   "cell_type": "code",
   "execution_count": 22,
   "id": "7076a615-8a4b-4137-b2af-d2c47bec744e",
   "metadata": {},
   "outputs": [],
   "source": [
    "#Q3\n",
    "import multiprocessing\n",
    "\n",
    "def demo(n):\n",
    "    print(n//2)\n",
    "\n",
    "if __name__ == \"__main__\":\n",
    "    m = multiprocessing.Process(target=demo)\n",
    "    "
   ]
  },
  {
   "cell_type": "code",
   "execution_count": 23,
   "id": "b3ee0ac8-67b1-4adf-89cd-4d84899e836b",
   "metadata": {},
   "outputs": [
    {
     "name": "stdout",
     "output_type": "stream",
     "text": [
      "3\n"
     ]
    }
   ],
   "source": [
    "demo(6)"
   ]
  },
  {
   "cell_type": "code",
   "execution_count": 24,
   "id": "60ad0d80-4196-48d8-9cd9-694bfe14b4e3",
   "metadata": {},
   "outputs": [],
   "source": [
    "#Q4\n",
    "# Multiprocessing pool is where parallel execution follows where a process is divided into\n",
    "# multiple small pieces with multiple inputs. "
   ]
  },
  {
   "cell_type": "code",
   "execution_count": 25,
   "id": "17a7aba8-e431-4b5e-921c-0eb1030288c0",
   "metadata": {},
   "outputs": [
    {
     "name": "stdout",
     "output_type": "stream",
     "text": [
      "[4, 8, 4, 2, 10]\n"
     ]
    }
   ],
   "source": [
    "#Q5\n",
    "import multiprocessing\n",
    "def double(n):\n",
    "    return n+n\n",
    "\n",
    "if __name__ == \"__main__\":\n",
    "    with multiprocessing.Pool(processes=6) as pool :\n",
    "        out = pool.map(double, [2,4,2,1,5])\n",
    "        print(out)"
   ]
  },
  {
   "cell_type": "code",
   "execution_count": 26,
   "id": "b940cdce-1235-4c8b-9504-20f8e952e9aa",
   "metadata": {},
   "outputs": [
    {
     "name": "stdout",
     "output_type": "stream",
     "text": [
      "[55, 24, 26, 2]\n"
     ]
    }
   ],
   "source": [
    "#Q6\n",
    "def prnt(n):\n",
    "    return n\n",
    "if __name__ == \"__main__\":\n",
    "    with multiprocessing.Pool(processes=4) as pool :\n",
    "        out = pool.map(prnt, [55,24,26,2])\n",
    "        print(out)"
   ]
  }
 ],
 "metadata": {
  "kernelspec": {
   "display_name": "Python 3 (ipykernel)",
   "language": "python",
   "name": "python3"
  },
  "language_info": {
   "codemirror_mode": {
    "name": "ipython",
    "version": 3
   },
   "file_extension": ".py",
   "mimetype": "text/x-python",
   "name": "python",
   "nbconvert_exporter": "python",
   "pygments_lexer": "ipython3",
   "version": "3.10.8"
  }
 },
 "nbformat": 4,
 "nbformat_minor": 5
}
